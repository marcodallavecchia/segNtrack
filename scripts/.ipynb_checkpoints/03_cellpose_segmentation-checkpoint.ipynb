{
 "cells": [
  {
   "cell_type": "markdown",
   "metadata": {},
   "source": [
    "## Goal\n",
    "In this notebook we will focus on segmenting and tracking the cells by themselves.\n",
    "\n",
    "## Workplan\n",
    "\n",
    "1. Segment fluorescent cells channel to define independent cells\n",
    "2. Track segmented cells using bayesian tracker\n",
    "3. Export segmented and tracked cells"
   ]
  },
  {
   "cell_type": "code",
   "execution_count": 3,
   "metadata": {},
   "outputs": [],
   "source": [
    "# Import packages\n",
    "import pandas as pd\n",
    "import tifffile as tf\n",
    "import numpy as np\n",
    "from matplotlib import pyplot as plt\n",
    "import napari\n",
    "from cellpose import io, plot, models"
   ]
  },
  {
   "cell_type": "code",
   "execution_count": 2,
   "metadata": {},
   "outputs": [],
   "source": [
    "# Define paths\n",
    "data_path = '../data/'\n",
    "output_path = '../results/'"
   ]
  },
  {
   "cell_type": "markdown",
   "metadata": {},
   "source": [
    "### CPU vs GPU\n",
    "In my  original segmentation because I had to segment different channels and many samples I used GPU, but for this explicative repository I have ran everything on  my laptop so I changed it to use CPU only. For specific instructions on how to use Cellpose on GPUs (you should if you can) refer to [their notebook](https://cellpose.readthedocs.io/en/latest/notebook.html)."
   ]
  },
  {
   "cell_type": "code",
   "execution_count": 5,
   "metadata": {},
   "outputs": [
    {
     "name": "stdout",
     "output_type": "stream",
     "text": [
      "2022-03-19 16:03:29,344 [INFO] >>>> using CPU\n",
      "2022-03-19 16:03:29,479 [INFO] ~~~ FINDING MASKS ~~~\n",
      "2022-03-19 16:03:29,479 [INFO] 0%|          | 0/20 [00:00<?, ?it/s]\n",
      "2022-03-19 16:06:29,784 [INFO] 5%|5         | 1/20 [03:00<57:05, 180.30s/it]\n",
      "2022-03-19 16:09:29,256 [INFO] 10%|#         | 2/20 [05:59<53:56, 179.81s/it]\n",
      "2022-03-19 16:12:27,833 [INFO] 15%|#5        | 3/20 [08:58<50:47, 179.25s/it]\n",
      "2022-03-19 16:15:23,504 [INFO] 20%|##        | 4/20 [11:54<47:25, 177.84s/it]\n",
      "2022-03-19 16:18:17,802 [INFO] 25%|##5       | 5/20 [14:48<44:08, 176.56s/it]\n",
      "2022-03-19 16:21:13,137 [INFO] 30%|###       | 6/20 [17:43<41:06, 176.14s/it]\n",
      "2022-03-19 16:24:06,168 [INFO] 35%|###5      | 7/20 [20:36<37:56, 175.13s/it]\n",
      "2022-03-19 16:26:58,594 [INFO] 40%|####      | 8/20 [23:29<34:51, 174.27s/it]\n",
      "2022-03-19 16:30:00,729 [INFO] 45%|####5     | 9/20 [26:31<32:23, 176.73s/it]\n",
      "2022-03-19 16:32:53,529 [INFO] 50%|#####     | 10/20 [29:24<29:15, 175.51s/it]\n",
      "2022-03-19 16:35:46,227 [INFO] 55%|#####5    | 11/20 [32:16<26:11, 174.65s/it]\n",
      "2022-03-19 16:38:43,972 [INFO] 60%|######    | 12/20 [35:14<23:24, 175.59s/it]\n",
      "2022-03-19 16:41:37,657 [INFO] 65%|######5   | 13/20 [38:08<20:25, 175.02s/it]\n",
      "2022-03-19 16:44:32,014 [INFO] 70%|#######   | 14/20 [41:02<17:28, 174.82s/it]\n",
      "2022-03-19 16:47:30,515 [INFO] 75%|#######5  | 15/20 [44:01<14:39, 175.93s/it]\n",
      "2022-03-19 16:50:29,840 [INFO] 80%|########  | 16/20 [47:00<11:47, 176.95s/it]\n",
      "2022-03-19 16:53:24,047 [INFO] 85%|########5 | 17/20 [49:54<08:48, 176.13s/it]\n",
      "2022-03-19 16:56:25,029 [INFO] 90%|######### | 18/20 [52:55<05:55, 177.58s/it]\n",
      "2022-03-19 16:59:35,106 [INFO] 95%|#########5| 19/20 [56:05<03:01, 181.34s/it]\n",
      "2022-03-19 17:02:49,962 [INFO] 100%|##########| 20/20 [59:20<00:00, 185.40s/it]\n",
      "2022-03-19 17:02:49,963 [INFO] 100%|##########| 20/20 [59:20<00:00, 178.02s/it]\n",
      "2022-03-19 17:02:49,964 [INFO] >>>> TOTAL TIME 3560.48 sec\n"
     ]
    }
   ],
   "source": [
    "# Define cellpose parameters\n",
    "channels = [0,0]\n",
    "diameter = 25 # I tried a couple of different values and landed on this value\n",
    "\n",
    "# open image to segment\n",
    "cells_name = 'xy1_cells.tif'\n",
    "img = tf.imread(data_path + cells_name)\n",
    "\n",
    "# Convert image to segment to list of images for cellpose\n",
    "imgs_to_segment = list(img)\n",
    "\n",
    "# Load pre-trained cyto2 model\n",
    "model = models.Cellpose(model_type='cyto2')\n",
    "\n",
    "# Do segmentation\n",
    "masks, flows, styles, diams = model.eval(imgs_to_segment, diameter=diameter, channels=channels)"
   ]
  },
  {
   "cell_type": "code",
   "execution_count": 9,
   "metadata": {},
   "outputs": [
    {
     "name": "stderr",
     "output_type": "stream",
     "text": [
      "divide by zero encountered in true_divide\n"
     ]
    },
    {
     "data": {
      "text/plain": [
       "<Labels layer 'Labels' at 0x264d9c13608>"
      ]
     },
     "execution_count": 9,
     "metadata": {},
     "output_type": "execute_result"
    }
   ],
   "source": [
    "v = napari.Viewer()\n",
    "v.add_image(img)\n",
    "v.add_labels(np.array(masks))"
   ]
  },
  {
   "cell_type": "code",
   "execution_count": 7,
   "metadata": {},
   "outputs": [],
   "source": [
    "tf.imwrite(output_path+'cell_mask.tif', np.array(masks))"
   ]
  },
  {
   "cell_type": "code",
   "execution_count": null,
   "metadata": {},
   "outputs": [],
   "source": []
  }
 ],
 "metadata": {
  "kernelspec": {
   "display_name": "Python 3",
   "language": "python",
   "name": "python3"
  },
  "language_info": {
   "codemirror_mode": {
    "name": "ipython",
    "version": 3
   },
   "file_extension": ".py",
   "mimetype": "text/x-python",
   "name": "python",
   "nbconvert_exporter": "python",
   "pygments_lexer": "ipython3",
   "version": "3.7.6"
  }
 },
 "nbformat": 4,
 "nbformat_minor": 5
}
