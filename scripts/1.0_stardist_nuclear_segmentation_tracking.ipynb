{
 "cells": [
  {
   "cell_type": "markdown",
   "metadata": {},
   "source": [
    "## Description\n",
    "1) Segment Hoechst channel to define nuclei\n",
    "\n",
    "2) Track segmented nuclei using bayesian tracker\n",
    "\n",
    "3) Export segmented and tracked nuclei"
   ]
  },
  {
   "cell_type": "code",
   "execution_count": 63,
   "metadata": {},
   "outputs": [],
   "source": [
    "import numpy as np\n",
    "from matplotlib import pyplot as plt\n",
    "import seaborn as sns\n",
    "import napari\n",
    "import os\n",
    "import pickle\n",
    "import image_utility_functions as iuf\n",
    "import tifffile as tf\n",
    "from tqdm.notebook import tqdm\n",
    "import btrack\n",
    "from skimage.segmentation import clear_border\n",
    "from stardist.plot import render_label\n",
    "from csbdeep.utils import normalize\n",
    "from stardist.data import test_image_nuclei_2d\n",
    "from stardist.models import StarDist2D "
   ]
  },
  {
   "cell_type": "code",
   "execution_count": 2,
   "metadata": {},
   "outputs": [
    {
     "name": "stdout",
     "output_type": "stream",
     "text": [
      "Data loaded!\n"
     ]
    }
   ],
   "source": [
    "# I just need to import the data dictionary with all the info for this notebook\n",
    "with open('D:/Documents/_phd/main/lab/p01_jfdyes_snap_halo_sensor_fret_response/experiments/e024_20191122/analysis/analysis6/scripts/image_paths.pickle', 'rb') as handle:\n",
    "    data_dict = pickle.load(handle)\n",
    "print('Data loaded!')\n",
    "\n",
    "# export path definition\n",
    "output_path = \"D:/Documents/_phd/main/lab/p01_jfdyes_snap_halo_sensor_fret_response/experiments/e024_20191122/analysis/analysis7/output/\""
   ]
  },
  {
   "cell_type": "code",
   "execution_count": 3,
   "metadata": {},
   "outputs": [
    {
     "name": "stdout",
     "output_type": "stream",
     "text": [
      "There are 4 registered models for 'StarDist2D':\n",
      "\n",
      "Name                  Alias(es)\n",
      "────                  ─────────\n",
      "'2D_versatile_fluo'   'Versatile (fluorescent nuclei)'\n",
      "'2D_versatile_he'     'Versatile (H&E nuclei)'\n",
      "'2D_paper_dsb2018'    'DSB 2018 (from StarDist 2D paper)'\n",
      "'2D_demo'             None\n",
      "Found model '2D_versatile_fluo' for 'StarDist2D'.\n",
      "Loading network weights from 'weights_best.h5'.\n",
      "Loading thresholds from 'thresholds.json'.\n",
      "Using default values: prob_thresh=0.479071, nms_thresh=0.3.\n"
     ]
    }
   ],
   "source": [
    "# prints a list of available models \n",
    "StarDist2D.from_pretrained() \n",
    "\n",
    "# creates a pretrained model\n",
    "model = StarDist2D.from_pretrained('2D_versatile_fluo')"
   ]
  },
  {
   "cell_type": "code",
   "execution_count": 16,
   "metadata": {},
   "outputs": [
    {
     "name": "stderr",
     "output_type": "stream",
     "text": [
      "divide by zero encountered in true_divide\n"
     ]
    }
   ],
   "source": [
    "# Open all Hoechst channel images to check quality\n",
    "## !! AKAR nuclear images are not usable -> see 1.1_akar_nuclei_cytoplasm_detection.ipynb notebook for independent segmentation !! ##\n",
    "fluorophores = data_dict.keys()\n",
    "viewer = napari.Viewer()\n",
    "for fluo in fluorophores:\n",
    "    img_path = data_dict[fluo]['xy1']['int_img_path']['ch5']\n",
    "    nuc_img = tf.imread(img_path)\n",
    "    viewer.add_image(nuc_img, name=fluo)"
   ]
  },
  {
   "cell_type": "code",
   "execution_count": 74,
   "metadata": {},
   "outputs": [
    {
     "name": "stdout",
     "output_type": "stream",
     "text": [
      "Loaded nuclei image for jf503snap_jf549halo\n",
      "Segmenting image..\n"
     ]
    },
    {
     "data": {
      "application/vnd.jupyter.widget-view+json": {
       "model_id": "98515121be904b7db7de982b8ddcc38b",
       "version_major": 2,
       "version_minor": 0
      },
      "text/plain": [
       "  0%|          | 0/20 [00:00<?, ?it/s]"
      ]
     },
     "metadata": {},
     "output_type": "display_data"
    },
    {
     "name": "stderr",
     "output_type": "stream",
     "text": [
      "[INFO][2022/01/31 10:37:39 AM] Localizing objects from segmentation...\n",
      "[INFO][2022/01/31 10:37:40 AM] Objects are of type: <class 'dict'>\n",
      "[INFO][2022/01/31 10:37:41 AM] ...Found 11723 objects in 20 frames.\n",
      "[INFO][2022/01/31 10:37:41 AM] Loaded btrack: c:\\users\\marco dalla vecchia\\appdata\\local\\programs\\python\\python37\\lib\\site-packages\\btrack\\libs\\libtracker.DLL\n",
      "[INFO][2022/01/31 10:37:41 AM] btrack (v0.4.2) library imported\n",
      "[INFO][2022/01/31 10:37:41 AM] Setting max XYZ search radius to: 100\n",
      "[INFO][2022/01/31 10:37:41 AM] Starting BayesianTracker session\n",
      "[INFO][2022/01/31 10:37:41 AM] Loading configuration file: cell_config.json\n",
      "[INFO][2022/01/31 10:37:41 AM] Loading motion model: b'cell_motion'\n",
      "[INFO][2022/01/31 10:37:41 AM] Objects are of type: <class 'list'>\n",
      "[INFO][2022/01/31 10:37:41 AM] Set volume to ((0, 2000), (0, 2000), (-100000.0, 100000.0))\n",
      "[INFO][2022/01/31 10:37:41 AM] Starting tracking... \n",
      "[INFO][2022/01/31 10:37:41 AM] Tracking objects in frames 0 to 20 (of 20)...\n",
      "[INFO][2022/01/31 10:37:46 AM]  - Timing (Bayesian updates: 250.00ms, Linking: 0.00ms)\n",
      "[INFO][2022/01/31 10:37:46 AM]  - Probabilities (Link: 0.99999, Lost: 0.58432)\n",
      "[INFO][2022/01/31 10:37:46 AM] SUCCESS.\n",
      "[INFO][2022/01/31 10:37:46 AM]  - Found 1184 tracks in 20 frames (in 0.0s)\n",
      "[INFO][2022/01/31 10:37:46 AM]  - Inserted 551 dummy objects to fill tracking gaps\n",
      "[INFO][2022/01/31 10:37:46 AM] Loading hypothesis model: cell_hypothesis\n",
      "[INFO][2022/01/31 10:37:46 AM] Calculating hypotheses (relax: True)...\n",
      "[INFO][2022/01/31 10:37:46 AM] Setting up constraints matrix for global optimisation...\n",
      "[INFO][2022/01/31 10:37:46 AM] Optimizing...\n",
      "[INFO][2022/01/31 10:37:46 AM] Optimization complete. (Solution: optimal)\n",
      "[INFO][2022/01/31 10:37:46 AM]  - Fates.FALSE_POSITIVE: 231 (of 1184)\n",
      "[INFO][2022/01/31 10:37:46 AM]  - Fates.LINK: 166 (of 383)\n",
      "[INFO][2022/01/31 10:37:46 AM]  - Fates.DIVIDE: 32 (of 126)\n",
      "[INFO][2022/01/31 10:37:46 AM]  - Fates.INITIALIZE_BORDER: 2 (of 3)\n",
      "[INFO][2022/01/31 10:37:46 AM]  - Fates.INITIALIZE_FRONT: 625 (of 752)\n",
      "[INFO][2022/01/31 10:37:46 AM]  - Fates.INITIALIZE_LAZY: 96 (of 429)\n",
      "[INFO][2022/01/31 10:37:46 AM]  - Fates.TERMINATE_BORDER: 3 (of 6)\n",
      "[INFO][2022/01/31 10:37:46 AM]  - Fates.TERMINATE_BACK: 620 (of 691)\n",
      "[INFO][2022/01/31 10:37:46 AM]  - Fates.TERMINATE_LAZY: 132 (of 487)\n",
      "[INFO][2022/01/31 10:37:46 AM]  - TOTAL: 4061 hypotheses\n",
      "[INFO][2022/01/31 10:37:46 AM] Completed optimization with 1018 tracks\n",
      "[INFO][2022/01/31 10:37:47 AM] Ending BayesianTracker session\n"
     ]
    },
    {
     "name": "stdout",
     "output_type": "stream",
     "text": [
      "Converting trackes to mask..\n",
      "Filtering unwanted nuclei..\n",
      "Exporting tracked nuclei..\n",
      "Loaded nuclei image for jf503snap_jf585halo\n",
      "Segmenting image..\n"
     ]
    },
    {
     "data": {
      "application/vnd.jupyter.widget-view+json": {
       "model_id": "3010e920ca85458ba14cf86038d7adf5",
       "version_major": 2,
       "version_minor": 0
      },
      "text/plain": [
       "  0%|          | 0/20 [00:00<?, ?it/s]"
      ]
     },
     "metadata": {},
     "output_type": "display_data"
    },
    {
     "name": "stderr",
     "output_type": "stream",
     "text": [
      "[INFO][2022/01/31 10:39:03 AM] Localizing objects from segmentation...\n",
      "[INFO][2022/01/31 10:39:05 AM] Objects are of type: <class 'dict'>\n",
      "[INFO][2022/01/31 10:39:05 AM] ...Found 20639 objects in 20 frames.\n",
      "[INFO][2022/01/31 10:39:05 AM] Loaded btrack: c:\\users\\marco dalla vecchia\\appdata\\local\\programs\\python\\python37\\lib\\site-packages\\btrack\\libs\\libtracker.DLL\n",
      "[INFO][2022/01/31 10:39:05 AM] btrack (v0.4.2) library imported\n",
      "[INFO][2022/01/31 10:39:05 AM] Setting max XYZ search radius to: 100\n",
      "[INFO][2022/01/31 10:39:05 AM] Starting BayesianTracker session\n",
      "[INFO][2022/01/31 10:39:05 AM] Loading configuration file: cell_config.json\n",
      "[INFO][2022/01/31 10:39:05 AM] Loading motion model: b'cell_motion'\n",
      "[INFO][2022/01/31 10:39:05 AM] Objects are of type: <class 'list'>\n",
      "[INFO][2022/01/31 10:39:05 AM] Set volume to ((0, 2000), (0, 2000), (-100000.0, 100000.0))\n",
      "[INFO][2022/01/31 10:39:05 AM] Starting tracking... \n",
      "[INFO][2022/01/31 10:39:06 AM] Tracking objects in frames 0 to 20 (of 20)...\n",
      "[INFO][2022/01/31 10:39:27 AM]  - Timing (Bayesian updates: 1000.00ms, Linking: 16.00ms)\n",
      "[INFO][2022/01/31 10:39:27 AM]  - Probabilities (Link: 1.00000, Lost: 0.99344)\n",
      "[INFO][2022/01/31 10:39:27 AM] SUCCESS.\n",
      "[INFO][2022/01/31 10:39:27 AM]  - Found 2117 tracks in 20 frames (in 0.0s)\n",
      "[INFO][2022/01/31 10:39:27 AM]  - Inserted 927 dummy objects to fill tracking gaps\n",
      "[INFO][2022/01/31 10:39:27 AM] Loading hypothesis model: cell_hypothesis\n",
      "[INFO][2022/01/31 10:39:27 AM] Calculating hypotheses (relax: True)...\n",
      "[INFO][2022/01/31 10:39:27 AM] Setting up constraints matrix for global optimisation...\n",
      "[INFO][2022/01/31 10:39:27 AM] Optimizing...\n",
      "[INFO][2022/01/31 10:39:27 AM] Optimization complete. (Solution: optimal)\n",
      "[INFO][2022/01/31 10:39:27 AM]  - Fates.FALSE_POSITIVE: 345 (of 2117)\n",
      "[INFO][2022/01/31 10:39:27 AM]  - Fates.LINK: 371 (of 726)\n",
      "[INFO][2022/01/31 10:39:27 AM]  - Fates.DIVIDE: 48 (of 198)\n",
      "[INFO][2022/01/31 10:39:27 AM]  - Fates.INITIALIZE_BORDER: 9 (of 23)\n",
      "[INFO][2022/01/31 10:39:27 AM]  - Fates.INITIALIZE_FRONT: 1114 (of 1352)\n",
      "[INFO][2022/01/31 10:39:27 AM]  - Fates.INITIALIZE_LAZY: 182 (of 742)\n",
      "[INFO][2022/01/31 10:39:27 AM]  - Fates.TERMINATE_BORDER: 11 (of 27)\n",
      "[INFO][2022/01/31 10:39:27 AM]  - Fates.TERMINATE_BACK: 1105 (of 1224)\n",
      "[INFO][2022/01/31 10:39:27 AM]  - Fates.TERMINATE_LAZY: 237 (of 866)\n",
      "[INFO][2022/01/31 10:39:27 AM]  - TOTAL: 7275 hypotheses\n",
      "[INFO][2022/01/31 10:39:27 AM] Completed optimization with 1746 tracks\n",
      "[INFO][2022/01/31 10:39:27 AM] Ending BayesianTracker session\n"
     ]
    },
    {
     "name": "stdout",
     "output_type": "stream",
     "text": [
      "Converting trackes to mask..\n",
      "Filtering unwanted nuclei..\n",
      "Exporting tracked nuclei..\n",
      "Loaded nuclei image for jf503snap_jf635halo\n",
      "Segmenting image..\n"
     ]
    },
    {
     "data": {
      "application/vnd.jupyter.widget-view+json": {
       "model_id": "1feb8de80cba4b04b4987345e2bfd72d",
       "version_major": 2,
       "version_minor": 0
      },
      "text/plain": [
       "  0%|          | 0/20 [00:00<?, ?it/s]"
      ]
     },
     "metadata": {},
     "output_type": "display_data"
    },
    {
     "name": "stderr",
     "output_type": "stream",
     "text": [
      "[INFO][2022/01/31 10:40:37 AM] Localizing objects from segmentation...\n",
      "[INFO][2022/01/31 10:40:39 AM] Objects are of type: <class 'dict'>\n",
      "[INFO][2022/01/31 10:40:39 AM] ...Found 18498 objects in 20 frames.\n",
      "[INFO][2022/01/31 10:40:39 AM] Loaded btrack: c:\\users\\marco dalla vecchia\\appdata\\local\\programs\\python\\python37\\lib\\site-packages\\btrack\\libs\\libtracker.DLL\n",
      "[INFO][2022/01/31 10:40:39 AM] btrack (v0.4.2) library imported\n",
      "[INFO][2022/01/31 10:40:39 AM] Setting max XYZ search radius to: 100\n",
      "[INFO][2022/01/31 10:40:39 AM] Starting BayesianTracker session\n",
      "[INFO][2022/01/31 10:40:39 AM] Loading configuration file: cell_config.json\n",
      "[INFO][2022/01/31 10:40:39 AM] Loading motion model: b'cell_motion'\n",
      "[INFO][2022/01/31 10:40:39 AM] Objects are of type: <class 'list'>\n",
      "[INFO][2022/01/31 10:40:39 AM] Set volume to ((0, 2000), (0, 2000), (-100000.0, 100000.0))\n",
      "[INFO][2022/01/31 10:40:39 AM] Starting tracking... \n",
      "[INFO][2022/01/31 10:40:40 AM] Tracking objects in frames 0 to 20 (of 20)...\n",
      "[INFO][2022/01/31 10:40:57 AM]  - Timing (Bayesian updates: 900.00ms, Linking: 7.00ms)\n",
      "[INFO][2022/01/31 10:40:57 AM]  - Probabilities (Link: 1.00000, Lost: 0.57410)\n",
      "[INFO][2022/01/31 10:40:57 AM] SUCCESS.\n",
      "[INFO][2022/01/31 10:40:57 AM]  - Found 2016 tracks in 20 frames (in 0.0s)\n",
      "[INFO][2022/01/31 10:40:57 AM]  - Inserted 763 dummy objects to fill tracking gaps\n",
      "[INFO][2022/01/31 10:40:57 AM] Loading hypothesis model: cell_hypothesis\n",
      "[INFO][2022/01/31 10:40:57 AM] Calculating hypotheses (relax: True)...\n",
      "[INFO][2022/01/31 10:40:57 AM] Setting up constraints matrix for global optimisation...\n",
      "[INFO][2022/01/31 10:40:57 AM] Optimizing...\n",
      "[INFO][2022/01/31 10:40:57 AM] Optimization complete. (Solution: optimal)\n",
      "[INFO][2022/01/31 10:40:57 AM]  - Fates.FALSE_POSITIVE: 267 (of 2016)\n",
      "[INFO][2022/01/31 10:40:57 AM]  - Fates.LINK: 412 (of 966)\n",
      "[INFO][2022/01/31 10:40:57 AM]  - Fates.DIVIDE: 89 (of 437)\n",
      "[INFO][2022/01/31 10:40:57 AM]  - Fates.INITIALIZE_BORDER: 8 (of 18)\n",
      "[INFO][2022/01/31 10:40:57 AM]  - Fates.INITIALIZE_FRONT: 986 (of 1281)\n",
      "[INFO][2022/01/31 10:40:57 AM]  - Fates.INITIALIZE_LAZY: 165 (of 717)\n",
      "[INFO][2022/01/31 10:40:57 AM]  - Fates.TERMINATE_BORDER: 14 (of 26)\n",
      "[INFO][2022/01/31 10:40:57 AM]  - Fates.TERMINATE_BACK: 1012 (of 1121)\n",
      "[INFO][2022/01/31 10:40:57 AM]  - Fates.TERMINATE_LAZY: 222 (of 869)\n",
      "[INFO][2022/01/31 10:40:57 AM]  - TOTAL: 7451 hypotheses\n",
      "[INFO][2022/01/31 10:40:57 AM] Completed optimization with 1604 tracks\n",
      "[INFO][2022/01/31 10:40:57 AM] Ending BayesianTracker session\n"
     ]
    },
    {
     "name": "stdout",
     "output_type": "stream",
     "text": [
      "Converting trackes to mask..\n",
      "Filtering unwanted nuclei..\n",
      "Exporting tracked nuclei..\n",
      "Loaded nuclei image for jf503snap_jf646halo\n",
      "Segmenting image..\n"
     ]
    },
    {
     "data": {
      "application/vnd.jupyter.widget-view+json": {
       "model_id": "a7bbe45b71854c1196fe76e2b6dbe2ca",
       "version_major": 2,
       "version_minor": 0
      },
      "text/plain": [
       "  0%|          | 0/20 [00:00<?, ?it/s]"
      ]
     },
     "metadata": {},
     "output_type": "display_data"
    },
    {
     "name": "stderr",
     "output_type": "stream",
     "text": [
      "[INFO][2022/01/31 10:42:08 AM] Localizing objects from segmentation...\n",
      "[INFO][2022/01/31 10:42:10 AM] Objects are of type: <class 'dict'>\n",
      "[INFO][2022/01/31 10:42:10 AM] ...Found 16918 objects in 20 frames.\n",
      "[INFO][2022/01/31 10:42:10 AM] Loaded btrack: c:\\users\\marco dalla vecchia\\appdata\\local\\programs\\python\\python37\\lib\\site-packages\\btrack\\libs\\libtracker.DLL\n",
      "[INFO][2022/01/31 10:42:10 AM] btrack (v0.4.2) library imported\n",
      "[INFO][2022/01/31 10:42:10 AM] Setting max XYZ search radius to: 100\n",
      "[INFO][2022/01/31 10:42:10 AM] Starting BayesianTracker session\n",
      "[INFO][2022/01/31 10:42:10 AM] Loading configuration file: cell_config.json\n",
      "[INFO][2022/01/31 10:42:10 AM] Loading motion model: b'cell_motion'\n",
      "[INFO][2022/01/31 10:42:10 AM] Objects are of type: <class 'list'>\n",
      "[INFO][2022/01/31 10:42:10 AM] Set volume to ((0, 2000), (0, 2000), (-100000.0, 100000.0))\n",
      "[INFO][2022/01/31 10:42:10 AM] Starting tracking... \n",
      "[INFO][2022/01/31 10:42:11 AM] Tracking objects in frames 0 to 20 (of 20)...\n",
      "[INFO][2022/01/31 10:42:23 AM]  - Timing (Bayesian updates: 734.00ms, Linking: 0.00ms)\n",
      "[INFO][2022/01/31 10:42:24 AM]  - Probabilities (Link: 1.00000, Lost: 0.79918)\n",
      "[INFO][2022/01/31 10:42:24 AM] SUCCESS.\n",
      "[INFO][2022/01/31 10:42:24 AM]  - Found 1602 tracks in 20 frames (in 0.0s)\n",
      "[INFO][2022/01/31 10:42:24 AM]  - Inserted 694 dummy objects to fill tracking gaps\n",
      "[INFO][2022/01/31 10:42:24 AM] Loading hypothesis model: cell_hypothesis\n",
      "[INFO][2022/01/31 10:42:24 AM] Calculating hypotheses (relax: True)...\n",
      "[INFO][2022/01/31 10:42:24 AM] Setting up constraints matrix for global optimisation...\n",
      "[INFO][2022/01/31 10:42:24 AM] Optimizing...\n",
      "[INFO][2022/01/31 10:42:24 AM] Optimization complete. (Solution: optimal)\n",
      "[INFO][2022/01/31 10:42:24 AM]  - Fates.FALSE_POSITIVE: 285 (of 1602)\n",
      "[INFO][2022/01/31 10:42:24 AM]  - Fates.LINK: 194 (of 379)\n",
      "[INFO][2022/01/31 10:42:24 AM]  - Fates.DIVIDE: 32 (of 85)\n",
      "[INFO][2022/01/31 10:42:24 AM]  - Fates.INITIALIZE_BORDER: 4 (of 12)\n",
      "[INFO][2022/01/31 10:42:24 AM]  - Fates.INITIALIZE_FRONT: 889 (of 1063)\n",
      "[INFO][2022/01/31 10:42:24 AM]  - Fates.INITIALIZE_LAZY: 166 (of 527)\n",
      "[INFO][2022/01/31 10:42:24 AM]  - Fates.TERMINATE_BORDER: 6 (of 13)\n",
      "[INFO][2022/01/31 10:42:24 AM]  - Fates.TERMINATE_BACK: 904 (of 991)\n",
      "[INFO][2022/01/31 10:42:24 AM]  - Fates.TERMINATE_LAZY: 181 (of 598)\n",
      "[INFO][2022/01/31 10:42:24 AM]  - TOTAL: 5270 hypotheses\n",
      "[INFO][2022/01/31 10:42:24 AM] Completed optimization with 1408 tracks\n",
      "[INFO][2022/01/31 10:42:24 AM] Ending BayesianTracker session\n"
     ]
    },
    {
     "name": "stdout",
     "output_type": "stream",
     "text": [
      "Converting trackes to mask..\n",
      "Filtering unwanted nuclei..\n",
      "Exporting tracked nuclei..\n",
      "Loaded nuclei image for jf549snap_jf635halo\n",
      "Segmenting image..\n"
     ]
    },
    {
     "data": {
      "application/vnd.jupyter.widget-view+json": {
       "model_id": "02192738711048a3acf96b035eed02af",
       "version_major": 2,
       "version_minor": 0
      },
      "text/plain": [
       "  0%|          | 0/20 [00:00<?, ?it/s]"
      ]
     },
     "metadata": {},
     "output_type": "display_data"
    },
    {
     "name": "stderr",
     "output_type": "stream",
     "text": [
      "[INFO][2022/01/31 10:43:38 AM] Localizing objects from segmentation...\n",
      "[INFO][2022/01/31 10:43:40 AM] Objects are of type: <class 'dict'>\n",
      "[INFO][2022/01/31 10:43:40 AM] ...Found 18350 objects in 20 frames.\n",
      "[INFO][2022/01/31 10:43:40 AM] Loaded btrack: c:\\users\\marco dalla vecchia\\appdata\\local\\programs\\python\\python37\\lib\\site-packages\\btrack\\libs\\libtracker.DLL\n",
      "[INFO][2022/01/31 10:43:40 AM] btrack (v0.4.2) library imported\n",
      "[INFO][2022/01/31 10:43:40 AM] Setting max XYZ search radius to: 100\n",
      "[INFO][2022/01/31 10:43:40 AM] Starting BayesianTracker session\n",
      "[INFO][2022/01/31 10:43:40 AM] Loading configuration file: cell_config.json\n",
      "[INFO][2022/01/31 10:43:40 AM] Loading motion model: b'cell_motion'\n",
      "[INFO][2022/01/31 10:43:40 AM] Objects are of type: <class 'list'>\n",
      "[INFO][2022/01/31 10:43:40 AM] Set volume to ((0, 2000), (0, 2000), (-100000.0, 100000.0))\n",
      "[INFO][2022/01/31 10:43:40 AM] Starting tracking... \n",
      "[INFO][2022/01/31 10:43:41 AM] Tracking objects in frames 0 to 20 (of 20)...\n",
      "[INFO][2022/01/31 10:43:56 AM]  - Timing (Bayesian updates: 833.00ms, Linking: 0.00ms)\n",
      "[INFO][2022/01/31 10:43:56 AM]  - Probabilities (Link: 1.00000, Lost: 0.77425)\n",
      "[INFO][2022/01/31 10:43:56 AM] SUCCESS.\n",
      "[INFO][2022/01/31 10:43:56 AM]  - Found 1885 tracks in 20 frames (in 0.0s)\n",
      "[INFO][2022/01/31 10:43:56 AM]  - Inserted 831 dummy objects to fill tracking gaps\n",
      "[INFO][2022/01/31 10:43:56 AM] Loading hypothesis model: cell_hypothesis\n",
      "[INFO][2022/01/31 10:43:56 AM] Calculating hypotheses (relax: True)...\n",
      "[INFO][2022/01/31 10:43:56 AM] Setting up constraints matrix for global optimisation...\n",
      "[INFO][2022/01/31 10:43:56 AM] Optimizing...\n",
      "[INFO][2022/01/31 10:43:56 AM] Optimization complete. (Solution: optimal)\n",
      "[INFO][2022/01/31 10:43:56 AM]  - Fates.FALSE_POSITIVE: 361 (of 1885)\n",
      "[INFO][2022/01/31 10:43:56 AM]  - Fates.LINK: 244 (of 599)\n",
      "[INFO][2022/01/31 10:43:56 AM]  - Fates.DIVIDE: 59 (of 221)\n",
      "[INFO][2022/01/31 10:43:56 AM]  - Fates.INITIALIZE_BORDER: 4 (of 9)\n",
      "[INFO][2022/01/31 10:43:56 AM]  - Fates.INITIALIZE_FRONT: 977 (of 1196)\n",
      "[INFO][2022/01/31 10:43:56 AM]  - Fates.INITIALIZE_LAZY: 181 (of 680)\n",
      "[INFO][2022/01/31 10:43:56 AM]  - Fates.TERMINATE_BORDER: 8 (of 13)\n",
      "[INFO][2022/01/31 10:43:56 AM]  - Fates.TERMINATE_BACK: 989 (of 1109)\n",
      "[INFO][2022/01/31 10:43:56 AM]  - Fates.TERMINATE_LAZY: 224 (of 763)\n",
      "[INFO][2022/01/31 10:43:56 AM]  - TOTAL: 6475 hypotheses\n",
      "[INFO][2022/01/31 10:43:56 AM] Completed optimization with 1641 tracks\n",
      "[INFO][2022/01/31 10:43:57 AM] Ending BayesianTracker session\n"
     ]
    },
    {
     "name": "stdout",
     "output_type": "stream",
     "text": [
      "Converting trackes to mask..\n",
      "Filtering unwanted nuclei..\n",
      "Exporting tracked nuclei..\n",
      "Loaded nuclei image for jf549snap_jf646halo\n",
      "Segmenting image..\n"
     ]
    },
    {
     "data": {
      "application/vnd.jupyter.widget-view+json": {
       "model_id": "2f0f8cd7a3db4f5a92af3ab4058f7bf8",
       "version_major": 2,
       "version_minor": 0
      },
      "text/plain": [
       "  0%|          | 0/20 [00:00<?, ?it/s]"
      ]
     },
     "metadata": {},
     "output_type": "display_data"
    },
    {
     "name": "stderr",
     "output_type": "stream",
     "text": [
      "[INFO][2022/01/31 10:45:06 AM] Localizing objects from segmentation...\n",
      "[INFO][2022/01/31 10:45:08 AM] Objects are of type: <class 'dict'>\n",
      "[INFO][2022/01/31 10:45:08 AM] ...Found 16436 objects in 20 frames.\n",
      "[INFO][2022/01/31 10:45:08 AM] Loaded btrack: c:\\users\\marco dalla vecchia\\appdata\\local\\programs\\python\\python37\\lib\\site-packages\\btrack\\libs\\libtracker.DLL\n",
      "[INFO][2022/01/31 10:45:08 AM] btrack (v0.4.2) library imported\n",
      "[INFO][2022/01/31 10:45:08 AM] Setting max XYZ search radius to: 100\n",
      "[INFO][2022/01/31 10:45:08 AM] Starting BayesianTracker session\n",
      "[INFO][2022/01/31 10:45:08 AM] Loading configuration file: cell_config.json\n",
      "[INFO][2022/01/31 10:45:08 AM] Loading motion model: b'cell_motion'\n",
      "[INFO][2022/01/31 10:45:08 AM] Objects are of type: <class 'list'>\n",
      "[INFO][2022/01/31 10:45:08 AM] Set volume to ((0, 2000), (0, 2000), (-100000.0, 100000.0))\n",
      "[INFO][2022/01/31 10:45:08 AM] Starting tracking... \n",
      "[INFO][2022/01/31 10:45:08 AM] Tracking objects in frames 0 to 20 (of 20)...\n",
      "[INFO][2022/01/31 10:45:20 AM]  - Timing (Bayesian updates: 600.00ms, Linking: 0.00ms)\n",
      "[INFO][2022/01/31 10:45:20 AM]  - Probabilities (Link: 1.00000, Lost: 0.85035)\n",
      "[INFO][2022/01/31 10:45:20 AM] SUCCESS.\n",
      "[INFO][2022/01/31 10:45:20 AM]  - Found 1696 tracks in 20 frames (in 0.0s)\n",
      "[INFO][2022/01/31 10:45:20 AM]  - Inserted 681 dummy objects to fill tracking gaps\n",
      "[INFO][2022/01/31 10:45:20 AM] Loading hypothesis model: cell_hypothesis\n",
      "[INFO][2022/01/31 10:45:20 AM] Calculating hypotheses (relax: True)...\n",
      "[INFO][2022/01/31 10:45:20 AM] Setting up constraints matrix for global optimisation...\n",
      "[INFO][2022/01/31 10:45:20 AM] Optimizing...\n",
      "[INFO][2022/01/31 10:45:20 AM] Optimization complete. (Solution: optimal)\n",
      "[INFO][2022/01/31 10:45:20 AM]  - Fates.FALSE_POSITIVE: 269 (of 1696)\n",
      "[INFO][2022/01/31 10:45:20 AM]  - Fates.LINK: 298 (of 636)\n",
      "[INFO][2022/01/31 10:45:20 AM]  - Fates.DIVIDE: 43 (of 228)\n",
      "[INFO][2022/01/31 10:45:20 AM]  - Fates.INITIALIZE_BORDER: 7 (of 16)\n",
      "[INFO][2022/01/31 10:45:20 AM]  - Fates.INITIALIZE_FRONT: 880 (of 1051)\n",
      "[INFO][2022/01/31 10:45:20 AM]  - Fates.INITIALIZE_LAZY: 156 (of 629)\n",
      "[INFO][2022/01/31 10:45:20 AM]  - Fates.TERMINATE_BORDER: 7 (of 15)\n",
      "[INFO][2022/01/31 10:45:20 AM]  - Fates.TERMINATE_BACK: 885 (of 987)\n",
      "[INFO][2022/01/31 10:45:20 AM]  - Fates.TERMINATE_LAZY: 194 (of 694)\n",
      "[INFO][2022/01/31 10:45:20 AM]  - TOTAL: 5952 hypotheses\n",
      "[INFO][2022/01/31 10:45:20 AM] Completed optimization with 1398 tracks\n",
      "[INFO][2022/01/31 10:45:21 AM] Ending BayesianTracker session\n"
     ]
    },
    {
     "name": "stdout",
     "output_type": "stream",
     "text": [
      "Converting trackes to mask..\n",
      "Filtering unwanted nuclei..\n",
      "Exporting tracked nuclei..\n",
      "Loaded nuclei image for jf585halo_jf646snap\n",
      "Segmenting image..\n"
     ]
    },
    {
     "data": {
      "application/vnd.jupyter.widget-view+json": {
       "model_id": "60b39a080c4746a097987ef41e716be2",
       "version_major": 2,
       "version_minor": 0
      },
      "text/plain": [
       "  0%|          | 0/20 [00:00<?, ?it/s]"
      ]
     },
     "metadata": {},
     "output_type": "display_data"
    },
    {
     "name": "stderr",
     "output_type": "stream",
     "text": [
      "[INFO][2022/01/31 10:46:32 AM] Localizing objects from segmentation...\n",
      "[INFO][2022/01/31 10:46:34 AM] Objects are of type: <class 'dict'>\n",
      "[INFO][2022/01/31 10:46:35 AM] ...Found 19040 objects in 20 frames.\n",
      "[INFO][2022/01/31 10:46:35 AM] Loaded btrack: c:\\users\\marco dalla vecchia\\appdata\\local\\programs\\python\\python37\\lib\\site-packages\\btrack\\libs\\libtracker.DLL\n",
      "[INFO][2022/01/31 10:46:35 AM] btrack (v0.4.2) library imported\n",
      "[INFO][2022/01/31 10:46:35 AM] Setting max XYZ search radius to: 100\n",
      "[INFO][2022/01/31 10:46:35 AM] Starting BayesianTracker session\n",
      "[INFO][2022/01/31 10:46:35 AM] Loading configuration file: cell_config.json\n",
      "[INFO][2022/01/31 10:46:35 AM] Loading motion model: b'cell_motion'\n",
      "[INFO][2022/01/31 10:46:35 AM] Objects are of type: <class 'list'>\n",
      "[INFO][2022/01/31 10:46:35 AM] Set volume to ((0, 2000), (0, 2000), (-100000.0, 100000.0))\n",
      "[INFO][2022/01/31 10:46:35 AM] Starting tracking... \n",
      "[INFO][2022/01/31 10:46:35 AM] Tracking objects in frames 0 to 20 (of 20)...\n",
      "[INFO][2022/01/31 10:46:52 AM]  - Timing (Bayesian updates: 934.00ms, Linking: 0.00ms)\n",
      "[INFO][2022/01/31 10:46:52 AM]  - Probabilities (Link: 1.00000, Lost: 0.99996)\n",
      "[INFO][2022/01/31 10:46:52 AM] SUCCESS.\n",
      "[INFO][2022/01/31 10:46:52 AM]  - Found 2094 tracks in 20 frames (in 0.0s)\n",
      "[INFO][2022/01/31 10:46:52 AM]  - Inserted 840 dummy objects to fill tracking gaps\n",
      "[INFO][2022/01/31 10:46:52 AM] Loading hypothesis model: cell_hypothesis\n",
      "[INFO][2022/01/31 10:46:52 AM] Calculating hypotheses (relax: True)...\n",
      "[INFO][2022/01/31 10:46:52 AM] Setting up constraints matrix for global optimisation...\n",
      "[INFO][2022/01/31 10:46:53 AM] Optimizing...\n",
      "[INFO][2022/01/31 10:46:53 AM] Optimization complete. (Solution: optimal)\n",
      "[INFO][2022/01/31 10:46:53 AM]  - Fates.FALSE_POSITIVE: 255 (of 2094)\n",
      "[INFO][2022/01/31 10:46:53 AM]  - Fates.LINK: 469 (of 1063)\n",
      "[INFO][2022/01/31 10:46:53 AM]  - Fates.DIVIDE: 87 (of 517)\n",
      "[INFO][2022/01/31 10:46:53 AM]  - Fates.INITIALIZE_BORDER: 4 (of 12)\n",
      "[INFO][2022/01/31 10:46:53 AM]  - Fates.INITIALIZE_FRONT: 1025 (of 1279)\n",
      "[INFO][2022/01/31 10:46:53 AM]  - Fates.INITIALIZE_LAZY: 167 (of 803)\n",
      "[INFO][2022/01/31 10:46:53 AM]  - Fates.TERMINATE_BORDER: 14 (of 27)\n",
      "[INFO][2022/01/31 10:46:53 AM]  - Fates.TERMINATE_BACK: 1043 (of 1149)\n",
      "[INFO][2022/01/31 10:46:53 AM]  - Fates.TERMINATE_LAZY: 226 (of 918)\n",
      "[INFO][2022/01/31 10:46:53 AM]  - TOTAL: 7862 hypotheses\n",
      "[INFO][2022/01/31 10:46:53 AM] Completed optimization with 1625 tracks\n",
      "[INFO][2022/01/31 10:46:53 AM] Ending BayesianTracker session\n"
     ]
    },
    {
     "name": "stdout",
     "output_type": "stream",
     "text": [
      "Converting trackes to mask..\n",
      "Filtering unwanted nuclei..\n",
      "Exporting tracked nuclei..\n",
      "Loaded nuclei image for jf549snap_jf585halo\n",
      "Segmenting image..\n"
     ]
    },
    {
     "data": {
      "application/vnd.jupyter.widget-view+json": {
       "model_id": "1a703495a5614301a61e2a116c814a08",
       "version_major": 2,
       "version_minor": 0
      },
      "text/plain": [
       "  0%|          | 0/20 [00:00<?, ?it/s]"
      ]
     },
     "metadata": {},
     "output_type": "display_data"
    },
    {
     "name": "stderr",
     "output_type": "stream",
     "text": [
      "[INFO][2022/01/31 10:48:07 AM] Localizing objects from segmentation...\n",
      "[INFO][2022/01/31 10:48:10 AM] Objects are of type: <class 'dict'>\n",
      "[INFO][2022/01/31 10:48:10 AM] ...Found 24098 objects in 20 frames.\n",
      "[INFO][2022/01/31 10:48:10 AM] Loaded btrack: c:\\users\\marco dalla vecchia\\appdata\\local\\programs\\python\\python37\\lib\\site-packages\\btrack\\libs\\libtracker.DLL\n",
      "[INFO][2022/01/31 10:48:10 AM] btrack (v0.4.2) library imported\n",
      "[INFO][2022/01/31 10:48:10 AM] Setting max XYZ search radius to: 100\n",
      "[INFO][2022/01/31 10:48:10 AM] Starting BayesianTracker session\n",
      "[INFO][2022/01/31 10:48:10 AM] Loading configuration file: cell_config.json\n",
      "[INFO][2022/01/31 10:48:10 AM] Loading motion model: b'cell_motion'\n",
      "[INFO][2022/01/31 10:48:10 AM] Objects are of type: <class 'list'>\n",
      "[INFO][2022/01/31 10:48:10 AM] Set volume to ((0, 2000), (0, 2000), (-100000.0, 100000.0))\n",
      "[INFO][2022/01/31 10:48:10 AM] Starting tracking... \n",
      "[INFO][2022/01/31 10:48:11 AM] Tracking objects in frames 0 to 20 (of 20)...\n",
      "[INFO][2022/01/31 10:48:39 AM]  - Timing (Bayesian updates: 1350.00ms, Linking: 0.00ms)\n",
      "[INFO][2022/01/31 10:48:39 AM]  - Probabilities (Link: 0.99910, Lost: 0.99793)\n",
      "[INFO][2022/01/31 10:48:39 AM] SUCCESS.\n",
      "[INFO][2022/01/31 10:48:39 AM]  - Found 2268 tracks in 20 frames (in 0.0s)\n",
      "[INFO][2022/01/31 10:48:40 AM]  - Inserted 808 dummy objects to fill tracking gaps\n",
      "[INFO][2022/01/31 10:48:40 AM] Loading hypothesis model: cell_hypothesis\n",
      "[INFO][2022/01/31 10:48:40 AM] Calculating hypotheses (relax: True)...\n",
      "[INFO][2022/01/31 10:48:40 AM] Setting up constraints matrix for global optimisation...\n",
      "[INFO][2022/01/31 10:48:40 AM] Optimizing...\n",
      "[INFO][2022/01/31 10:48:40 AM] Optimization complete. (Solution: optimal)\n",
      "[INFO][2022/01/31 10:48:40 AM]  - Fates.FALSE_POSITIVE: 308 (of 2268)\n",
      "[INFO][2022/01/31 10:48:40 AM]  - Fates.LINK: 342 (of 703)\n",
      "[INFO][2022/01/31 10:48:40 AM]  - Fates.DIVIDE: 55 (of 219)\n",
      "[INFO][2022/01/31 10:48:40 AM]  - Fates.INITIALIZE_BORDER: 15 (of 22)\n",
      "[INFO][2022/01/31 10:48:40 AM]  - Fates.INITIALIZE_FRONT: 1298 (of 1560)\n",
      "[INFO][2022/01/31 10:48:40 AM]  - Fates.INITIALIZE_LAZY: 195 (of 686)\n",
      "[INFO][2022/01/31 10:48:40 AM]  - Fates.TERMINATE_BORDER: 15 (of 25)\n",
      "[INFO][2022/01/31 10:48:40 AM]  - Fates.TERMINATE_BACK: 1271 (of 1379)\n",
      "[INFO][2022/01/31 10:48:40 AM]  - Fates.TERMINATE_LAZY: 277 (of 864)\n",
      "[INFO][2022/01/31 10:48:40 AM]  - TOTAL: 7726 hypotheses\n",
      "[INFO][2022/01/31 10:48:40 AM] Completed optimization with 1926 tracks\n",
      "[INFO][2022/01/31 10:48:40 AM] Ending BayesianTracker session\n"
     ]
    },
    {
     "name": "stdout",
     "output_type": "stream",
     "text": [
      "Converting trackes to mask..\n",
      "Filtering unwanted nuclei..\n",
      "Exporting tracked nuclei..\n",
      "Loaded nuclei image for jf549halo_jf646snap\n",
      "Segmenting image..\n"
     ]
    },
    {
     "data": {
      "application/vnd.jupyter.widget-view+json": {
       "model_id": "876791f8410a4a5f9fd4bf6bbeb4c0d2",
       "version_major": 2,
       "version_minor": 0
      },
      "text/plain": [
       "  0%|          | 0/20 [00:00<?, ?it/s]"
      ]
     },
     "metadata": {},
     "output_type": "display_data"
    },
    {
     "name": "stderr",
     "output_type": "stream",
     "text": [
      "[INFO][2022/01/31 10:49:55 AM] Localizing objects from segmentation...\n",
      "[INFO][2022/01/31 10:49:58 AM] Objects are of type: <class 'dict'>\n",
      "[INFO][2022/01/31 10:49:58 AM] ...Found 24382 objects in 20 frames.\n",
      "[INFO][2022/01/31 10:49:58 AM] Loaded btrack: c:\\users\\marco dalla vecchia\\appdata\\local\\programs\\python\\python37\\lib\\site-packages\\btrack\\libs\\libtracker.DLL\n",
      "[INFO][2022/01/31 10:49:58 AM] btrack (v0.4.2) library imported\n",
      "[INFO][2022/01/31 10:49:58 AM] Setting max XYZ search radius to: 100\n",
      "[INFO][2022/01/31 10:49:58 AM] Starting BayesianTracker session\n",
      "[INFO][2022/01/31 10:49:58 AM] Loading configuration file: cell_config.json\n",
      "[INFO][2022/01/31 10:49:58 AM] Loading motion model: b'cell_motion'\n",
      "[INFO][2022/01/31 10:49:58 AM] Objects are of type: <class 'list'>\n",
      "[INFO][2022/01/31 10:49:58 AM] Set volume to ((0, 2000), (0, 2000), (-100000.0, 100000.0))\n",
      "[INFO][2022/01/31 10:49:58 AM] Starting tracking... \n",
      "[INFO][2022/01/31 10:49:59 AM] Tracking objects in frames 0 to 20 (of 20)...\n",
      "[INFO][2022/01/31 10:50:32 AM]  - Timing (Bayesian updates: 1516.00ms, Linking: 17.00ms)\n",
      "[INFO][2022/01/31 10:50:32 AM]  - Probabilities (Link: 1.00000, Lost: 0.56284)\n",
      "[INFO][2022/01/31 10:50:32 AM] SUCCESS.\n",
      "[INFO][2022/01/31 10:50:32 AM]  - Found 3159 tracks in 20 frames (in 0.0s)\n",
      "[INFO][2022/01/31 10:50:32 AM]  - Inserted 1297 dummy objects to fill tracking gaps\n",
      "[INFO][2022/01/31 10:50:32 AM] Loading hypothesis model: cell_hypothesis\n",
      "[INFO][2022/01/31 10:50:32 AM] Calculating hypotheses (relax: True)...\n",
      "[INFO][2022/01/31 10:50:32 AM] Setting up constraints matrix for global optimisation...\n",
      "[INFO][2022/01/31 10:50:32 AM] Optimizing...\n",
      "[INFO][2022/01/31 10:50:33 AM] Optimization complete. (Solution: optimal)\n",
      "[INFO][2022/01/31 10:50:33 AM]  - Fates.FALSE_POSITIVE: 427 (of 3159)\n",
      "[INFO][2022/01/31 10:50:33 AM]  - Fates.LINK: 832 (of 2175)\n",
      "[INFO][2022/01/31 10:50:33 AM]  - Fates.DIVIDE: 154 (of 1312)\n",
      "[INFO][2022/01/31 10:50:33 AM]  - Fates.INITIALIZE_BORDER: 24 (of 51)\n",
      "[INFO][2022/01/31 10:50:33 AM]  - Fates.INITIALIZE_FRONT: 1344 (of 1905)\n",
      "[INFO][2022/01/31 10:50:33 AM]  - Fates.INITIALIZE_LAZY: 224 (of 1203)\n",
      "[INFO][2022/01/31 10:50:33 AM]  - Fates.TERMINATE_BORDER: 27 (of 53)\n",
      "[INFO][2022/01/31 10:50:33 AM]  - Fates.TERMINATE_BACK: 1326 (of 1496)\n",
      "[INFO][2022/01/31 10:50:33 AM]  - Fates.TERMINATE_LAZY: 393 (of 1610)\n",
      "[INFO][2022/01/31 10:50:33 AM]  - TOTAL: 12964 hypotheses\n",
      "[INFO][2022/01/31 10:50:33 AM] Completed optimization with 2327 tracks\n",
      "[INFO][2022/01/31 10:50:33 AM] Ending BayesianTracker session\n"
     ]
    },
    {
     "name": "stdout",
     "output_type": "stream",
     "text": [
      "Converting trackes to mask..\n",
      "Filtering unwanted nuclei..\n",
      "Exporting tracked nuclei..\n",
      "Loaded nuclei image for jf549halo_jf585snap\n",
      "Segmenting image..\n"
     ]
    },
    {
     "data": {
      "application/vnd.jupyter.widget-view+json": {
       "model_id": "1be3e2e158834089ab12e4ffc841cd6a",
       "version_major": 2,
       "version_minor": 0
      },
      "text/plain": [
       "  0%|          | 0/20 [00:00<?, ?it/s]"
      ]
     },
     "metadata": {},
     "output_type": "display_data"
    },
    {
     "name": "stderr",
     "output_type": "stream",
     "text": [
      "[INFO][2022/01/31 10:51:41 AM] Localizing objects from segmentation...\n",
      "[INFO][2022/01/31 10:51:42 AM] Objects are of type: <class 'dict'>\n",
      "[INFO][2022/01/31 10:51:43 AM] ...Found 16617 objects in 20 frames.\n",
      "[INFO][2022/01/31 10:51:43 AM] Loaded btrack: c:\\users\\marco dalla vecchia\\appdata\\local\\programs\\python\\python37\\lib\\site-packages\\btrack\\libs\\libtracker.DLL\n",
      "[INFO][2022/01/31 10:51:43 AM] btrack (v0.4.2) library imported\n",
      "[INFO][2022/01/31 10:51:43 AM] Setting max XYZ search radius to: 100\n",
      "[INFO][2022/01/31 10:51:43 AM] Starting BayesianTracker session\n",
      "[INFO][2022/01/31 10:51:43 AM] Loading configuration file: cell_config.json\n",
      "[INFO][2022/01/31 10:51:43 AM] Loading motion model: b'cell_motion'\n",
      "[INFO][2022/01/31 10:51:43 AM] Objects are of type: <class 'list'>\n",
      "[INFO][2022/01/31 10:51:43 AM] Set volume to ((0, 2000), (0, 2000), (-100000.0, 100000.0))\n",
      "[INFO][2022/01/31 10:51:43 AM] Starting tracking... \n",
      "[INFO][2022/01/31 10:51:43 AM] Tracking objects in frames 0 to 20 (of 20)...\n",
      "[INFO][2022/01/31 10:51:56 AM]  - Timing (Bayesian updates: 617.00ms, Linking: 0.00ms)\n",
      "[INFO][2022/01/31 10:51:56 AM]  - Probabilities (Link: 1.00000, Lost: 0.99989)\n",
      "[INFO][2022/01/31 10:51:56 AM] SUCCESS.\n",
      "[INFO][2022/01/31 10:51:56 AM]  - Found 2176 tracks in 20 frames (in 0.0s)\n",
      "[INFO][2022/01/31 10:51:56 AM]  - Inserted 867 dummy objects to fill tracking gaps\n",
      "[INFO][2022/01/31 10:51:56 AM] Loading hypothesis model: cell_hypothesis\n",
      "[INFO][2022/01/31 10:51:56 AM] Calculating hypotheses (relax: True)...\n",
      "[INFO][2022/01/31 10:51:56 AM] Setting up constraints matrix for global optimisation...\n",
      "[INFO][2022/01/31 10:51:57 AM] Optimizing...\n",
      "[INFO][2022/01/31 10:51:57 AM] Optimization complete. (Solution: optimal)\n",
      "[INFO][2022/01/31 10:51:57 AM]  - Fates.FALSE_POSITIVE: 225 (of 2176)\n",
      "[INFO][2022/01/31 10:51:57 AM]  - Fates.LINK: 678 (of 1777)\n",
      "[INFO][2022/01/31 10:51:57 AM]  - Fates.DIVIDE: 117 (of 1273)\n",
      "[INFO][2022/01/31 10:51:57 AM]  - Fates.INITIALIZE_BORDER: 6 (of 18)\n",
      "[INFO][2022/01/31 10:51:57 AM]  - Fates.INITIALIZE_FRONT: 914 (of 1388)\n",
      "[INFO][2022/01/31 10:51:57 AM]  - Fates.INITIALIZE_LAZY: 119 (of 770)\n",
      "[INFO][2022/01/31 10:51:57 AM]  - Fates.TERMINATE_BORDER: 12 (of 27)\n",
      "[INFO][2022/01/31 10:51:57 AM]  - Fates.TERMINATE_BACK: 895 (of 994)\n",
      "[INFO][2022/01/31 10:51:57 AM]  - Fates.TERMINATE_LAZY: 249 (of 1155)\n",
      "[INFO][2022/01/31 10:51:57 AM]  - TOTAL: 9578 hypotheses\n",
      "[INFO][2022/01/31 10:51:57 AM] Completed optimization with 1498 tracks\n",
      "[INFO][2022/01/31 10:51:57 AM] Ending BayesianTracker session\n"
     ]
    },
    {
     "name": "stdout",
     "output_type": "stream",
     "text": [
      "Converting trackes to mask..\n",
      "Filtering unwanted nuclei..\n",
      "Exporting tracked nuclei..\n",
      "Loaded nuclei image for jf585halo_jf635snap\n",
      "Segmenting image..\n"
     ]
    },
    {
     "data": {
      "application/vnd.jupyter.widget-view+json": {
       "model_id": "0669b20e0b7844a990bcb86ea082918a",
       "version_major": 2,
       "version_minor": 0
      },
      "text/plain": [
       "  0%|          | 0/20 [00:00<?, ?it/s]"
      ]
     },
     "metadata": {},
     "output_type": "display_data"
    },
    {
     "name": "stderr",
     "output_type": "stream",
     "text": [
      "[INFO][2022/01/31 10:53:10 AM] Localizing objects from segmentation...\n",
      "[INFO][2022/01/31 10:53:12 AM] Objects are of type: <class 'dict'>\n",
      "[INFO][2022/01/31 10:53:12 AM] ...Found 22512 objects in 20 frames.\n",
      "[INFO][2022/01/31 10:53:12 AM] Loaded btrack: c:\\users\\marco dalla vecchia\\appdata\\local\\programs\\python\\python37\\lib\\site-packages\\btrack\\libs\\libtracker.DLL\n",
      "[INFO][2022/01/31 10:53:12 AM] btrack (v0.4.2) library imported\n",
      "[INFO][2022/01/31 10:53:12 AM] Setting max XYZ search radius to: 100\n",
      "[INFO][2022/01/31 10:53:12 AM] Starting BayesianTracker session\n",
      "[INFO][2022/01/31 10:53:12 AM] Loading configuration file: cell_config.json\n",
      "[INFO][2022/01/31 10:53:12 AM] Loading motion model: b'cell_motion'\n",
      "[INFO][2022/01/31 10:53:12 AM] Objects are of type: <class 'list'>\n",
      "[INFO][2022/01/31 10:53:12 AM] Set volume to ((0, 2000), (0, 2000), (-100000.0, 100000.0))\n",
      "[INFO][2022/01/31 10:53:12 AM] Starting tracking... \n",
      "[INFO][2022/01/31 10:53:13 AM] Tracking objects in frames 0 to 20 (of 20)...\n",
      "[INFO][2022/01/31 10:53:37 AM]  - Timing (Bayesian updates: 1284.00ms, Linking: 16.00ms)\n",
      "[INFO][2022/01/31 10:53:37 AM]  - Probabilities (Link: 1.00000, Lost: 0.74835)\n",
      "[INFO][2022/01/31 10:53:37 AM] SUCCESS.\n",
      "[INFO][2022/01/31 10:53:37 AM]  - Found 2171 tracks in 20 frames (in 0.0s)\n",
      "[INFO][2022/01/31 10:53:37 AM]  - Inserted 891 dummy objects to fill tracking gaps\n",
      "[INFO][2022/01/31 10:53:37 AM] Loading hypothesis model: cell_hypothesis\n",
      "[INFO][2022/01/31 10:53:37 AM] Calculating hypotheses (relax: True)...\n",
      "[INFO][2022/01/31 10:53:37 AM] Setting up constraints matrix for global optimisation...\n",
      "[INFO][2022/01/31 10:53:37 AM] Optimizing...\n",
      "[INFO][2022/01/31 10:53:37 AM] Optimization complete. (Solution: optimal)\n",
      "[INFO][2022/01/31 10:53:37 AM]  - Fates.FALSE_POSITIVE: 355 (of 2171)\n",
      "[INFO][2022/01/31 10:53:37 AM]  - Fates.LINK: 296 (of 665)\n",
      "[INFO][2022/01/31 10:53:37 AM]  - Fates.DIVIDE: 56 (of 231)\n",
      "[INFO][2022/01/31 10:53:37 AM]  - Fates.INITIALIZE_BORDER: 14 (of 29)\n",
      "[INFO][2022/01/31 10:53:37 AM]  - Fates.INITIALIZE_FRONT: 1189 (of 1398)\n",
      "[INFO][2022/01/31 10:53:37 AM]  - Fates.INITIALIZE_LAZY: 205 (of 744)\n",
      "[INFO][2022/01/31 10:53:37 AM]  - Fates.TERMINATE_BORDER: 6 (of 19)\n",
      "[INFO][2022/01/31 10:53:37 AM]  - Fates.TERMINATE_BACK: 1231 (of 1367)\n",
      "[INFO][2022/01/31 10:53:37 AM]  - Fates.TERMINATE_LAZY: 227 (of 785)\n",
      "[INFO][2022/01/31 10:53:37 AM]  - TOTAL: 7409 hypotheses\n",
      "[INFO][2022/01/31 10:53:37 AM] Completed optimization with 1875 tracks\n",
      "[INFO][2022/01/31 10:53:37 AM] Ending BayesianTracker session\n"
     ]
    },
    {
     "name": "stdout",
     "output_type": "stream",
     "text": [
      "Converting trackes to mask..\n",
      "Filtering unwanted nuclei..\n",
      "Exporting tracked nuclei..\n",
      "Loaded nuclei image for jf549halo_jf635snap\n",
      "Segmenting image..\n"
     ]
    },
    {
     "data": {
      "application/vnd.jupyter.widget-view+json": {
       "model_id": "e8cf5b7145774ddf86d2ff1b200454b0",
       "version_major": 2,
       "version_minor": 0
      },
      "text/plain": [
       "  0%|          | 0/20 [00:00<?, ?it/s]"
      ]
     },
     "metadata": {},
     "output_type": "display_data"
    },
    {
     "name": "stderr",
     "output_type": "stream",
     "text": [
      "[INFO][2022/01/31 10:54:47 AM] Localizing objects from segmentation...\n",
      "[INFO][2022/01/31 10:54:49 AM] Objects are of type: <class 'dict'>\n",
      "[INFO][2022/01/31 10:54:50 AM] ...Found 21784 objects in 20 frames.\n",
      "[INFO][2022/01/31 10:54:50 AM] Loaded btrack: c:\\users\\marco dalla vecchia\\appdata\\local\\programs\\python\\python37\\lib\\site-packages\\btrack\\libs\\libtracker.DLL\n",
      "[INFO][2022/01/31 10:54:50 AM] btrack (v0.4.2) library imported\n",
      "[INFO][2022/01/31 10:54:50 AM] Setting max XYZ search radius to: 100\n",
      "[INFO][2022/01/31 10:54:50 AM] Starting BayesianTracker session\n",
      "[INFO][2022/01/31 10:54:50 AM] Loading configuration file: cell_config.json\n",
      "[INFO][2022/01/31 10:54:50 AM] Loading motion model: b'cell_motion'\n",
      "[INFO][2022/01/31 10:54:50 AM] Objects are of type: <class 'list'>\n",
      "[INFO][2022/01/31 10:54:50 AM] Set volume to ((0, 2000), (0, 2000), (-100000.0, 100000.0))\n",
      "[INFO][2022/01/31 10:54:50 AM] Starting tracking... \n",
      "[INFO][2022/01/31 10:54:51 AM] Tracking objects in frames 0 to 20 (of 20)...\n",
      "[INFO][2022/01/31 10:55:17 AM]  - Timing (Bayesian updates: 1266.00ms, Linking: 17.00ms)\n",
      "[INFO][2022/01/31 10:55:17 AM]  - Probabilities (Link: 1.00000, Lost: 0.98983)\n",
      "[INFO][2022/01/31 10:55:17 AM] SUCCESS.\n",
      "[INFO][2022/01/31 10:55:17 AM]  - Found 2880 tracks in 20 frames (in 0.0s)\n",
      "[INFO][2022/01/31 10:55:17 AM]  - Inserted 1245 dummy objects to fill tracking gaps\n",
      "[INFO][2022/01/31 10:55:17 AM] Loading hypothesis model: cell_hypothesis\n",
      "[INFO][2022/01/31 10:55:17 AM] Calculating hypotheses (relax: True)...\n",
      "[INFO][2022/01/31 10:55:17 AM] Setting up constraints matrix for global optimisation...\n",
      "[INFO][2022/01/31 10:55:17 AM] Optimizing...\n",
      "[INFO][2022/01/31 10:55:17 AM] Optimization complete. (Solution: optimal)\n",
      "[INFO][2022/01/31 10:55:17 AM]  - Fates.FALSE_POSITIVE: 384 (of 2880)\n",
      "[INFO][2022/01/31 10:55:17 AM]  - Fates.LINK: 816 (of 2223)\n",
      "[INFO][2022/01/31 10:55:17 AM]  - Fates.DIVIDE: 141 (of 1470)\n",
      "[INFO][2022/01/31 10:55:17 AM]  - Fates.INITIALIZE_BORDER: 12 (of 24)\n",
      "[INFO][2022/01/31 10:55:17 AM]  - Fates.INITIALIZE_FRONT: 1200 (of 1708)\n",
      "[INFO][2022/01/31 10:55:17 AM]  - Fates.INITIALIZE_LAZY: 186 (of 1148)\n",
      "[INFO][2022/01/31 10:55:17 AM]  - Fates.TERMINATE_BORDER: 13 (of 29)\n",
      "[INFO][2022/01/31 10:55:17 AM]  - Fates.TERMINATE_BACK: 1172 (of 1309)\n",
      "[INFO][2022/01/31 10:55:18 AM]  - Fates.TERMINATE_LAZY: 354 (of 1542)\n",
      "[INFO][2022/01/31 10:55:18 AM]  - TOTAL: 12333 hypotheses\n",
      "[INFO][2022/01/31 10:55:18 AM] Completed optimization with 2064 tracks\n",
      "[INFO][2022/01/31 10:55:18 AM] Ending BayesianTracker session\n"
     ]
    },
    {
     "name": "stdout",
     "output_type": "stream",
     "text": [
      "Converting trackes to mask..\n",
      "Filtering unwanted nuclei..\n",
      "Exporting tracked nuclei..\n"
     ]
    }
   ],
   "source": [
    "fluorophores = [fluo for fluo in data_dict.keys() if 'ecfp_ypet' not in fluo]\n",
    "\n",
    "for fluo in fluorophores:\n",
    "    folder = data_dict[fluo]['xy1']['int_img_path']['ch5'][:data_dict[fluo]['xy1']['int_img_path']['ch5'].find('/', -20)]\n",
    "\n",
    "    file_list = [folder+'/'+file for file in os.listdir(folder) if 'c5' in file]\n",
    "    nuclei = tf.imread(file_list)\n",
    "    print('Loaded nuclei image for {}'.format(fluo))\n",
    "    label_list = []\n",
    "    \n",
    "    print('Segmenting image..')\n",
    "    for img in tqdm(nuclei):\n",
    "        labels, _ = model.predict_instances(normalize(img))\n",
    "        label_list.append(labels)\n",
    "        \n",
    "    nuclei_labels = np.array(label_list)\n",
    "    objects = btrack.utils.segmentation_to_objects(nuclei_labels)\n",
    "    # Tracks defined objects across time\n",
    "    with btrack.BayesianTracker() as tracker:\n",
    "        # configure the tracker using a config file\n",
    "        tracker.configure_from_file('cell_config.json')\n",
    "\n",
    "        # append the objects to be tracked\n",
    "        tracker.append(objects) \n",
    "        # set the volume (Z axis volume is set very large for 2D data)\n",
    "        tracker.volume=((0, 2000), (0, 2000), (-1e5, 1e5))\n",
    "\n",
    "        # track them (in interactive mode)\n",
    "        tracker.track_interactive(step_size=100)\n",
    "\n",
    "        # generate hypotheses and run the global optimizer\n",
    "        tracker.optimize()\n",
    "\n",
    "        # get the tracks as a python list\n",
    "        tracks = tracker.tracks\n",
    "\n",
    "        # get the data in a format for napari\n",
    "        data, properties, graph = tracker.to_napari(ndim=2)\n",
    "\n",
    "    # # Use tracks from btrack to create masks with same label\n",
    "    print(\"Converting trackes to mask..\")\n",
    "    tracked_masks = np.array(iuf.TracksToMasks(data, nuclei_labels))\n",
    "    \n",
    "    # Remove nuclei touching the image border\n",
    "    print(\"Filtering unwanted nuclei..\")\n",
    "    cleared_mask = tracked_masks.copy()\n",
    "    for layID, layer in enumerate(tracked_masks):\n",
    "        cleared_mask[layID] = clear_border(layer)\n",
    "\n",
    "    # Create an array Layers X Labels that has True if label is present or False if not\n",
    "    layers_x_labels = []\n",
    "    for layer in cleared_mask:\n",
    "        layers_x_labels.append(iuf.select_labels(layer, cleared_mask.max()))\n",
    "    final = np.array(layers_x_labels)\n",
    "\n",
    "    # check if a give label is True in all time points\n",
    "    # filter all possible available labels by those present in all time points\n",
    "    common_labels = np.arange(0, cleared_mask.max()+1)[final.sum(axis=0) == 20]\n",
    "    # create final mask with those common labels\n",
    "    final_mask = np.isin(cleared_mask, common_labels) * cleared_mask\n",
    "    print(\"Exporting tracked nuclei..\")\n",
    "    tf.imwrite(output_path + \"tracked_nuclei/\" + fluo +\"_xy1_tracked_nuclei.tif\", np.uint16(final_mask))"
   ]
  },
  {
   "cell_type": "markdown",
   "metadata": {},
   "source": [
    "## Below testing code"
   ]
  },
  {
   "cell_type": "code",
   "execution_count": 60,
   "metadata": {},
   "outputs": [
    {
     "data": {
      "application/vnd.jupyter.widget-view+json": {
       "model_id": "b89b4d0d55444855b61e57fff90e21b4",
       "version_major": 2,
       "version_minor": 0
      },
      "text/plain": [
       "  0%|          | 0/20 [00:00<?, ?it/s]"
      ]
     },
     "metadata": {},
     "output_type": "display_data"
    }
   ],
   "source": [
    "\n",
    "\n",
    "label_list = []\n",
    "polygon_list = []\n",
    "\n",
    "for img in tqdm(nuclei):\n",
    "    labels, polygons = model.predict_instances(normalize(img))\n",
    "    \n",
    "    label_list.append(labels)\n",
    "    polygon_list.append(polygons)"
   ]
  },
  {
   "cell_type": "code",
   "execution_count": 61,
   "metadata": {},
   "outputs": [
    {
     "name": "stderr",
     "output_type": "stream",
     "text": [
      "divide by zero encountered in true_divide\n"
     ]
    },
    {
     "data": {
      "text/plain": [
       "<Labels layer 'nuclei_labels' at 0x1caaa1c2748>"
      ]
     },
     "execution_count": 61,
     "metadata": {},
     "output_type": "execute_result"
    }
   ],
   "source": [
    "nuclei_labels = np.array(label_list)\n",
    "\n",
    "viewer = napari.Viewer()\n",
    "viewer.add_image(nuclei)\n",
    "viewer.add_labels(nuclei_labels)"
   ]
  },
  {
   "cell_type": "code",
   "execution_count": 7,
   "metadata": {
    "scrolled": false
   },
   "outputs": [
    {
     "name": "stderr",
     "output_type": "stream",
     "text": [
      "[INFO][2022/01/20 11:46:52 AM] Localizing objects from segmentation...\n",
      "[INFO][2022/01/20 11:46:54 AM] Objects are of type: <class 'dict'>\n",
      "[INFO][2022/01/20 11:46:54 AM] ...Found 16436 objects in 20 frames.\n",
      "[INFO][2022/01/20 11:46:54 AM] Loaded btrack: c:\\users\\marco dalla vecchia\\appdata\\local\\programs\\python\\python37\\lib\\site-packages\\btrack\\libs\\libtracker.DLL\n",
      "[INFO][2022/01/20 11:46:54 AM] btrack (v0.4.2) library imported\n",
      "[INFO][2022/01/20 11:46:54 AM] Setting max XYZ search radius to: 100\n",
      "[INFO][2022/01/20 11:46:54 AM] Starting BayesianTracker session\n",
      "[INFO][2022/01/20 11:46:54 AM] Loading configuration file: cell_config.json\n",
      "[INFO][2022/01/20 11:46:54 AM] Loading motion model: b'cell_motion'\n",
      "[INFO][2022/01/20 11:46:54 AM] Objects are of type: <class 'list'>\n",
      "[INFO][2022/01/20 11:46:54 AM] Set volume to ((0, 2000), (0, 2000), (-100000.0, 100000.0))\n",
      "[INFO][2022/01/20 11:46:54 AM] Starting tracking... \n",
      "[INFO][2022/01/20 11:46:54 AM] Tracking objects in frames 0 to 20 (of 20)...\n",
      "[INFO][2022/01/20 11:47:06 AM]  - Timing (Bayesian updates: 583.00ms, Linking: 0.00ms)\n",
      "[INFO][2022/01/20 11:47:06 AM]  - Probabilities (Link: 1.00000, Lost: 0.85035)\n",
      "[INFO][2022/01/20 11:47:06 AM] SUCCESS.\n",
      "[INFO][2022/01/20 11:47:06 AM]  - Found 1696 tracks in 20 frames (in 0.0s)\n",
      "[INFO][2022/01/20 11:47:06 AM]  - Inserted 681 dummy objects to fill tracking gaps\n",
      "[INFO][2022/01/20 11:47:06 AM] Loading hypothesis model: cell_hypothesis\n",
      "[INFO][2022/01/20 11:47:06 AM] Calculating hypotheses (relax: True)...\n",
      "[INFO][2022/01/20 11:47:06 AM] Setting up constraints matrix for global optimisation...\n",
      "[INFO][2022/01/20 11:47:06 AM] Optimizing...\n",
      "[INFO][2022/01/20 11:47:06 AM] Optimization complete. (Solution: optimal)\n",
      "[INFO][2022/01/20 11:47:06 AM]  - Fates.FALSE_POSITIVE: 269 (of 1696)\n",
      "[INFO][2022/01/20 11:47:06 AM]  - Fates.LINK: 298 (of 636)\n",
      "[INFO][2022/01/20 11:47:06 AM]  - Fates.DIVIDE: 43 (of 228)\n",
      "[INFO][2022/01/20 11:47:06 AM]  - Fates.INITIALIZE_BORDER: 7 (of 16)\n",
      "[INFO][2022/01/20 11:47:06 AM]  - Fates.INITIALIZE_FRONT: 880 (of 1051)\n",
      "[INFO][2022/01/20 11:47:06 AM]  - Fates.INITIALIZE_LAZY: 156 (of 629)\n",
      "[INFO][2022/01/20 11:47:06 AM]  - Fates.TERMINATE_BORDER: 7 (of 15)\n",
      "[INFO][2022/01/20 11:47:06 AM]  - Fates.TERMINATE_BACK: 885 (of 987)\n",
      "[INFO][2022/01/20 11:47:06 AM]  - Fates.TERMINATE_LAZY: 194 (of 694)\n",
      "[INFO][2022/01/20 11:47:06 AM]  - TOTAL: 5952 hypotheses\n",
      "[INFO][2022/01/20 11:47:06 AM] Completed optimization with 1398 tracks\n",
      "[INFO][2022/01/20 11:47:06 AM] Ending BayesianTracker session\n"
     ]
    }
   ],
   "source": [
    "objects = btrack.utils.segmentation_to_objects(nuclei_labels)\n",
    "\n",
    "# Tracks defined objects across time\n",
    "with btrack.BayesianTracker() as tracker:\n",
    "    # configure the tracker using a config file\n",
    "    tracker.configure_from_file('cell_config.json')\n",
    "\n",
    "    # append the objects to be tracked\n",
    "    tracker.append(objects) \n",
    "    # set the volume (Z axis volume is set very large for 2D data)\n",
    "    tracker.volume=((0, 2000), (0, 2000), (-1e5, 1e5))\n",
    "\n",
    "    # track them (in interactive mode)\n",
    "    tracker.track_interactive(step_size=100)\n",
    "\n",
    "    # generate hypotheses and run the global optimizer\n",
    "    tracker.optimize()\n",
    "\n",
    "    # get the tracks as a python list\n",
    "    tracks = tracker.tracks\n",
    "\n",
    "    # get the data in a format for napari\n",
    "    data, properties, graph = tracker.to_napari(ndim=2)\n",
    "\n",
    "# # Use tracks from btrack to create masks with same label\n",
    "tracked_masks = np.array(iuf.TracksToMasks(data, nuclei_labels))"
   ]
  },
  {
   "cell_type": "code",
   "execution_count": 9,
   "metadata": {},
   "outputs": [],
   "source": [
    "# Remove nuclei touching the image border\n",
    "cleared_mask = tracked_masks.copy()\n",
    "for layID, layer in enumerate(tracked_masks):\n",
    "    cleared_mask[layID] = clear_border(layer)\n",
    "    \n",
    "# Create an array Layers X Labels that has True if label is present or False if not\n",
    "layers_x_labels = []\n",
    "for layer in cleared_mask:\n",
    "    layers_x_labels.append(iuf.select_labels(layer, cleared_mask.max()))\n",
    "final = np.array(layers_x_labels)\n",
    "\n",
    "# check if a give label is True in all time points\n",
    "# filter all possible available labels by those present in all time points\n",
    "common_labels = np.arange(0, cleared_mask.max()+1)[final.sum(axis=0) == 20]\n",
    "# create final mask with those common labels\n",
    "final_mask = np.isin(cleared_mask, common_labels) * cleared_mask"
   ]
  },
  {
   "cell_type": "code",
   "execution_count": 62,
   "metadata": {},
   "outputs": [],
   "source": [
    "tf.imwrite(output_path + \"tracked_nuclei/\" + fluorophores +\"_tracked_nuclei.tif\", np.uint16(final_mask))"
   ]
  },
  {
   "cell_type": "code",
   "execution_count": 19,
   "metadata": {},
   "outputs": [
    {
     "name": "stderr",
     "output_type": "stream",
     "text": [
      "divide by zero encountered in true_divide\n"
     ]
    },
    {
     "data": {
      "text/plain": [
       "<Labels layer 'cells' at 0x219c1f7aec8>"
      ]
     },
     "execution_count": 19,
     "metadata": {},
     "output_type": "execute_result"
    }
   ],
   "source": [
    "viewer = napari.Viewer()\n",
    "viewer.add_labels(final_mask, opacity=0.5)\n",
    "viewer.add_labels(cells, opacity=0.5)\n",
    "# viewer.add_tracks(data, properties=properties, graph=graph, name='tracks')"
   ]
  }
 ],
 "metadata": {
  "kernelspec": {
   "display_name": "Python 3",
   "language": "python",
   "name": "python3"
  },
  "language_info": {
   "codemirror_mode": {
    "name": "ipython",
    "version": 3
   },
   "file_extension": ".py",
   "mimetype": "text/x-python",
   "name": "python",
   "nbconvert_exporter": "python",
   "pygments_lexer": "ipython3",
   "version": "3.7.6"
  }
 },
 "nbformat": 4,
 "nbformat_minor": 4
}
